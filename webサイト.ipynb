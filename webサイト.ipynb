{
 "cells": [
  {
   "cell_type": "code",
   "execution_count": null,
   "metadata": {},
   "outputs": [
    {
     "name": "stdout",
     "output_type": "stream",
     "text": [
      " * Serving Flask app \"__main__\" (lazy loading)\n",
      " * Environment: production\n",
      "   WARNING: This is a development server. Do not use it in a production deployment.\n",
      "   Use a production WSGI server instead.\n",
      " * Debug mode: off\n"
     ]
    },
    {
     "name": "stderr",
     "output_type": "stream",
     "text": [
      " * Running on http://127.0.0.1:5000/ (Press CTRL+C to quit)\n",
      "127.0.0.1 - - [16/Feb/2021 13:18:13] \"\u001b[37mGET / HTTP/1.1\u001b[0m\" 200 -\n",
      "127.0.0.1 - - [16/Feb/2021 13:18:13] \"\u001b[33mGET /top.css HTTP/1.1\u001b[0m\" 404 -\n",
      "127.0.0.1 - - [16/Feb/2021 13:18:29] \"\u001b[37mPOST /confirmation.html HTTP/1.1\u001b[0m\" 200 -\n",
      "127.0.0.1 - - [16/Feb/2021 13:18:29] \"\u001b[33mGET /camera-shutter1.mp3 HTTP/1.1\u001b[0m\" 404 -\n",
      "127.0.0.1 - - [16/Feb/2021 13:18:57] \"\u001b[37mPOST /kakuninn.html HTTP/1.1\u001b[0m\" 200 -\n",
      "C:\\Users\\190001\\Anaconda3\\envs\\Gomi_bun\\lib\\site-packages\\tensorflow\\python\\framework\\dtypes.py:516: FutureWarning: Passing (type, 1) or '1type' as a synonym of type is deprecated; in a future version of numpy, it will be understood as (type, (1,)) / '(1,)type'.\n",
      "  _np_qint8 = np.dtype([(\"qint8\", np.int8, 1)])\n",
      "C:\\Users\\190001\\Anaconda3\\envs\\Gomi_bun\\lib\\site-packages\\tensorflow\\python\\framework\\dtypes.py:517: FutureWarning: Passing (type, 1) or '1type' as a synonym of type is deprecated; in a future version of numpy, it will be understood as (type, (1,)) / '(1,)type'.\n",
      "  _np_quint8 = np.dtype([(\"quint8\", np.uint8, 1)])\n",
      "C:\\Users\\190001\\Anaconda3\\envs\\Gomi_bun\\lib\\site-packages\\tensorflow\\python\\framework\\dtypes.py:518: FutureWarning: Passing (type, 1) or '1type' as a synonym of type is deprecated; in a future version of numpy, it will be understood as (type, (1,)) / '(1,)type'.\n",
      "  _np_qint16 = np.dtype([(\"qint16\", np.int16, 1)])\n",
      "C:\\Users\\190001\\Anaconda3\\envs\\Gomi_bun\\lib\\site-packages\\tensorflow\\python\\framework\\dtypes.py:519: FutureWarning: Passing (type, 1) or '1type' as a synonym of type is deprecated; in a future version of numpy, it will be understood as (type, (1,)) / '(1,)type'.\n",
      "  _np_quint16 = np.dtype([(\"quint16\", np.uint16, 1)])\n",
      "C:\\Users\\190001\\Anaconda3\\envs\\Gomi_bun\\lib\\site-packages\\tensorflow\\python\\framework\\dtypes.py:520: FutureWarning: Passing (type, 1) or '1type' as a synonym of type is deprecated; in a future version of numpy, it will be understood as (type, (1,)) / '(1,)type'.\n",
      "  _np_qint32 = np.dtype([(\"qint32\", np.int32, 1)])\n",
      "C:\\Users\\190001\\Anaconda3\\envs\\Gomi_bun\\lib\\site-packages\\tensorflow\\python\\framework\\dtypes.py:525: FutureWarning: Passing (type, 1) or '1type' as a synonym of type is deprecated; in a future version of numpy, it will be understood as (type, (1,)) / '(1,)type'.\n",
      "  np_resource = np.dtype([(\"resource\", np.ubyte, 1)])\n"
     ]
    }
   ],
   "source": [
    "from flask import Flask, render_template\n",
    "import os\n",
    "\n",
    "def aimodel():\n",
    "    from tensorflow.python.keras.models import load_model\n",
    "    import numpy as np\n",
    "    from tensorflow.python.keras.preprocessing.image import img_to_array, load_img\n",
    "    \n",
    "    from PIL import Image\n",
    "\n",
    "    image01 = Image.open(r\"C:\\Users\\190001\\Downloads\\ダウンロード.png\").convert(\"RGB\")\n",
    "    image01.save(r\"C:\\Users\\190001\\Downloads\\test01.jpg\")\n",
    "    \n",
    "    os.remove(r\"C:\\Users\\190001\\Downloads\\ダウンロード.png\")\n",
    "    print(\"はいってる？\")\n",
    "    \n",
    "    model_file_name='2020_モデル2'\n",
    "    #print(jpg_name)\n",
    "    #print(model_file_name)\n",
    "\n",
    "    #img_path =('E:\\\\000284.jpg')\n",
    "    img_path = (r'C:\\Users\\190001\\Downloads\\test01.jpg')\n",
    "\n",
    "    model=load_model(r\"C:\\Users\\190001\\workspeace\\2年次\\卒業制作発表会\\ゴミぶん\\2020_モデル3.h5\")\n",
    "\n",
    "    print(img_path)\n",
    "    print(model)\n",
    "\n",
    "    img_path = img_path\n",
    "    img = img_to_array(load_img(img_path, target_size=(32,32)))\n",
    "    img_nad = img_to_array(img)/255\n",
    "    img_nad = img_nad[None, ...]\n",
    "\n",
    "    #label=[\"bin\",\"botoru\",\"torei\",\"kami\",\"kann\",\"dennti\"]\n",
    "    label=[\"ビン\",\"ペットボトル\",\"トレイ容器\",\"紙パック\",\"缶\",\"電池\"]\n",
    "    pred = model.predict(img_nad, batch_size=1, verbose=0)\n",
    "    score = np.max(pred)\n",
    "    pred_label = label[np.argmax(pred[0])]\n",
    "    print('name:',pred_label)\n",
    "    print('score:',score)\n",
    "    \n",
    "    return pred_label\n",
    "\n",
    "app = Flask(__name__) \n",
    "\n",
    "@app.route(\"/\")\n",
    "def top():\n",
    "    return render_template(\"top.html\")\n",
    "\n",
    "@app.route(\"/confirmation.html\", methods=[\"POST\"])\n",
    "def move_confirmation():\n",
    "    return render_template(\"confirmation.html\")\n",
    "\n",
    "@app.route(\"/kakuninn.html\", methods=[\"POST\"])\n",
    "def move_kakuninn():\n",
    "    return render_template(\"kakuninn.html\")\n",
    "\n",
    "@app.route(\"/result.html\", methods=[\"POST\"])\n",
    "def move_result():\n",
    "    gomi_label = aimodel()\n",
    "    os.remove(r\"C:\\Users\\190001\\Downloads\\test01.jpg\")\n",
    "    return render_template(\"result.html\", gomi_label=gomi_label)\n",
    "\n",
    "if __name__ == \"__main__\":\n",
    "    app.run()"
   ]
  },
  {
   "cell_type": "code",
   "execution_count": 44,
   "metadata": {},
   "outputs": [],
   "source": [
    "    #label=[\"bin\",\"botoru\",\"torei\",\"kami\",\"kann\",\"dennti\"]\n",
    "    label=[\"ビン\",\"ペットボトル\",\"トレイ容器\",\"紙パック\",\"缶\",\"電池\"]"
   ]
  },
  {
   "cell_type": "code",
   "execution_count": null,
   "metadata": {},
   "outputs": [],
   "source": []
  }
 ],
 "metadata": {
  "kernelspec": {
   "display_name": "Python 3",
   "language": "python",
   "name": "python3"
  },
  "language_info": {
   "codemirror_mode": {
    "name": "ipython",
    "version": 3
   },
   "file_extension": ".py",
   "mimetype": "text/x-python",
   "name": "python",
   "nbconvert_exporter": "python",
   "pygments_lexer": "ipython3",
   "version": "3.7.9"
  }
 },
 "nbformat": 4,
 "nbformat_minor": 4
}
